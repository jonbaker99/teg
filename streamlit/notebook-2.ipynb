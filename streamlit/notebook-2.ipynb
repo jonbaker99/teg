{
 "cells": [
  {
   "cell_type": "code",
   "execution_count": 4,
   "metadata": {},
   "outputs": [],
   "source": [
    "import pandas as pd\n",
    "import numpy as np\n",
    "import logging\n",
    "from math import floor\n",
    "from google.oauth2.service_account import Credentials\n",
    "import gspread\n",
    "from typing import Dict, Any, List\n",
    "from utils import get_teg_rounds, load_all_data, aggregate_data\n",
    "\n",
    "\n",
    "\n"
   ]
  },
  {
   "cell_type": "code",
   "execution_count": null,
   "metadata": {},
   "outputs": [],
   "source": [
    "all_data = load_all_data(exclude_teg_50=True,exclude_incomplete_tegs=True)\n",
    "print(all_data)"
   ]
  },
  {
   "cell_type": "code",
   "execution_count": 5,
   "metadata": {},
   "outputs": [
    {
     "name": "stdout",
     "output_type": "stream",
     "text": [
      "Group columns: ['Pl', 'TEG', 'Player', 'TEGNum']\n",
      "DataFrame columns: ['TEG', 'Round', 'Hole', 'PAR', 'SI', 'Pl', 'Sc', 'HC', 'HCStrokes', 'GrossVP', 'Net', 'NetVP', 'Stableford', 'TEGNum', 'HoleID', 'Player', 'FrontBack', 'Date', 'Course', 'Hole Order Ever', 'Sc Cum Round', 'Sc Cum TEG', 'Sc Cum Career', 'GrossVP Cum Round', 'GrossVP Cum TEG', 'GrossVP Cum Career', 'NetVP Cum Round', 'NetVP Cum TEG', 'NetVP Cum Career', 'Stableford Cum Round', 'Stableford Cum TEG', 'Stableford Cum Career', 'TEG Count', 'Career Count', 'Sc Round Avg', 'Sc TEG Avg', 'Sc Career Avg', 'GrossVP Round Avg', 'GrossVP TEG Avg', 'GrossVP Career Avg', 'NetVP Round Avg', 'NetVP TEG Avg', 'NetVP Career Avg', 'Stableford Round Avg', 'Stableford TEG Avg', 'Stableford Career Avg', 'Year']\n"
     ]
    },
    {
     "data": {
      "text/plain": [
       "<bound method NDFrame.to_clipboard of    Pl     TEG      Player  TEGNum     Sc  GrossVP  NetVP  Stableford\n",
       "0  AB  TEG 10  Alex BAKER      10  376.0     90.0  -38.0       184.0\n",
       "1  AB  TEG 11  Alex BAKER      11  394.0    106.0   10.0       137.0\n",
       "2  AB  TEG 12  Alex BAKER      12  392.0    104.0    4.0       143.0\n",
       "3  AB  TEG 13  Alex BAKER      13  390.0    103.0    3.0       141.0\n",
       "4  AB  TEG 14  Alex BAKER      14  389.0    102.0   -2.0       152.0>"
      ]
     },
     "execution_count": 5,
     "metadata": {},
     "output_type": "execute_result"
    }
   ],
   "source": [
    "all_data = load_all_data(exclude_teg_50=True,exclude_incomplete_tegs=True)\n",
    "agg_measures = ['Sc','GrossVP','NetVP','Stableford']\n",
    "teg_data = aggregate_data(all_data,'TEG',agg_measures)\n",
    "\n",
    "teg_data"
   ]
  }
 ],
 "metadata": {
  "kernelspec": {
   "display_name": "Python 3",
   "language": "python",
   "name": "python3"
  },
  "language_info": {
   "codemirror_mode": {
    "name": "ipython",
    "version": 3
   },
   "file_extension": ".py",
   "mimetype": "text/x-python",
   "name": "python",
   "nbconvert_exporter": "python",
   "pygments_lexer": "ipython3",
   "version": "3.12.1"
  }
 },
 "nbformat": 4,
 "nbformat_minor": 2
}
